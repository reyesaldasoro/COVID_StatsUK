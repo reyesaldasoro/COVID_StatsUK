{
 "cells": [
  {
   "cell_type": "code",
   "execution_count": 1,
   "metadata": {},
   "outputs": [],
   "source": [
    "import pandas as pd\n",
    "import io\n",
    "import requests\n",
    "import matplotlib.pyplot as plt\n",
    "import matplotlib.ticker as ticker\n",
    "import numpy as np\n",
    "import requests\n",
    "from statsmodels import api as sm"
   ]
  },
  {
   "cell_type": "code",
   "execution_count": 37,
   "metadata": {},
   "outputs": [],
   "source": [
    "url_2021='https://www.ons.gov.uk/file?uri=/peoplepopulationandcommunity/birthsdeathsandmarriages/deaths/datasets/weeklyprovisionalfiguresondeathsregisteredinenglandandwales/2021/copyofpublishedweek042021.xlsx'\n",
    "url_2020=\"https://www.ons.gov.uk/file?uri=/peoplepopulationandcommunity/birthsdeathsandmarriages/deaths/datasets/weeklyprovisionalfiguresondeathsregisteredinenglandandwales/2020/publishedweek532020.xlsx\"\n"
   ]
  },
  {
   "cell_type": "code",
   "execution_count": 121,
   "metadata": {
    "scrolled": true
   },
   "outputs": [],
   "source": [
    "covid_week_2020 = pd.read_excel('publishedweek532020.xlsx',sheet_name='Covid-19 - Weekly registrations')\n",
    "total_week_2020 = pd.read_excel('publishedweek532020.xlsx',sheet_name='Weekly figures 2020')\n",
    "covid_week_2021 = pd.read_excel('copyofpublishedweek042021.xlsx',sheet_name='Covid-19 - Weekly registrations')\n",
    "total_week_2021 = pd.read_excel('copyofpublishedweek042021.xlsx',sheet_name='Weekly figures 2021')"
   ]
  },
  {
   "cell_type": "code",
   "execution_count": 127,
   "metadata": {},
   "outputs": [],
   "source": [
    "deaths_total_2020 = total_week_2020.iloc[7][2:]\n",
    "deaths_covid_2020 = covid_week_2020.iloc[7][2:]\n",
    "ratio_covid_2020  = deaths_covid_2020/deaths_total_2020"
   ]
  },
  {
   "cell_type": "code",
   "execution_count": 134,
   "metadata": {},
   "outputs": [],
   "source": [
    "deaths_total_2021 = (total_week_2021.iloc[7][2:]).dropna()\n",
    "deaths_covid_2021 = (covid_week_2021.iloc[7][2:]).dropna()\n",
    "ratio_covid_2021  = (deaths_covid_2021/deaths_total_2021).dropna()"
   ]
  },
  {
   "cell_type": "code",
   "execution_count": 136,
   "metadata": {},
   "outputs": [
    {
     "data": {
      "text/plain": [
       "Unnamed: 2               0\n",
       "Unnamed: 3               0\n",
       "Unnamed: 4               0\n",
       "Unnamed: 5               0\n",
       "Unnamed: 6               0\n",
       "Unnamed: 7               0\n",
       "Unnamed: 8               0\n",
       "Unnamed: 9               0\n",
       "Unnamed: 10              0\n",
       "Unnamed: 11              0\n",
       "Unnamed: 12    0.000453762\n",
       "Unnamed: 13      0.0096759\n",
       "Unnamed: 14      0.0483799\n",
       "Unnamed: 15       0.212058\n",
       "Unnamed: 16       0.335548\n",
       "Unnamed: 17       0.391839\n",
       "Unnamed: 18        0.37446\n",
       "Unnamed: 19       0.336156\n",
       "Unnamed: 20         0.3105\n",
       "Unnamed: 21       0.261442\n",
       "Unnamed: 22       0.210693\n",
       "Unnamed: 23       0.185464\n",
       "Unnamed: 24       0.148286\n",
       "Unnamed: 25       0.111668\n",
       "Unnamed: 26       0.083842\n",
       "Unnamed: 27      0.0674908\n",
       "Unnamed: 28      0.0582057\n",
       "Unnamed: 29      0.0421174\n",
       "Unnamed: 30      0.0334353\n",
       "Unnamed: 31      0.0244067\n",
       "                  ...     \n",
       "Unnamed: 33      0.0169927\n",
       "Unnamed: 34      0.0147998\n",
       "Unnamed: 35      0.0143287\n",
       "Unnamed: 36      0.0111825\n",
       "Unnamed: 37      0.0100788\n",
       "Unnamed: 38      0.0100907\n",
       "Unnamed: 39      0.0145962\n",
       "Unnamed: 40      0.0223168\n",
       "Unnamed: 41      0.0322775\n",
       "Unnamed: 42      0.0440024\n",
       "Unnamed: 43      0.0636036\n",
       "Unnamed: 44      0.0910699\n",
       "Unnamed: 45       0.126665\n",
       "Unnamed: 46       0.163986\n",
       "Unnamed: 47        0.20124\n",
       "Unnamed: 48       0.215158\n",
       "Unnamed: 49       0.244059\n",
       "Unnamed: 50       0.230432\n",
       "Unnamed: 51       0.224211\n",
       "Unnamed: 52       0.229498\n",
       "Unnamed: 53       0.252778\n",
       "Unnamed: 54       0.312246\n",
       "Unnamed: 55        0.34122\n",
       "Unnamed: 56       0.401563\n",
       "Unnamed: 57       0.450953\n",
       "Unnamed: 58       0.457123\n",
       "Unnamed: 2         0.34122\n",
       "Unnamed: 3        0.401563\n",
       "Unnamed: 4        0.450953\n",
       "Unnamed: 5        0.457123\n",
       "Name: 7, Length: 61, dtype: object"
      ]
     },
     "execution_count": 136,
     "metadata": {},
     "output_type": "execute_result"
    }
   ],
   "source": [
    "deaths_dates = covid_week.iloc[4][2:]\n",
    "ratio_covid_2020.append(ratio_covid_2021)"
   ]
  },
  {
   "cell_type": "code",
   "execution_count": 135,
   "metadata": {},
   "outputs": [
    {
     "data": {
      "text/plain": [
       "Unnamed: 2     0.34122\n",
       "Unnamed: 3    0.401563\n",
       "Unnamed: 4    0.450953\n",
       "Unnamed: 5    0.457123\n",
       "Name: 7, dtype: object"
      ]
     },
     "execution_count": 135,
     "metadata": {},
     "output_type": "execute_result"
    }
   ],
   "source": [
    "ratio_covid_2021"
   ]
  },
  {
   "cell_type": "code",
   "execution_count": 137,
   "metadata": {
    "scrolled": false
   },
   "outputs": [
    {
     "data": {
      "image/png": "[encoded data removed]",
      "text/plain": [
       "<Figure size 792x288 with 1 Axes>"
      ]
     },
     "metadata": {},
     "output_type": "display_data"
    }
   ],
   "source": [
    "fig = plt.figure(figsize=(11, 4))\n",
    "ax  = fig.add_subplot(111)\n",
    "plt.plot(deaths_dates,ratio_covid_2020)\n",
    "plt.xlabel('Time')\n",
    "plt.ylabel('Ratio of Covid deaths / total deaths')\n",
    "ax.tick_params(axis='x', rotation=90)\n",
    "plt.grid()\n"
   ]
  },
  {
   "cell_type": "code",
   "execution_count": 138,
   "metadata": {},
   "outputs": [
    {
     "data": {
      "image/png": "[encoded data removed]",
      "text/plain": [
       "<Figure size 792x288 with 1 Axes>"
      ]
     },
     "metadata": {},
     "output_type": "display_data"
    }
   ],
   "source": [
    "fig2 = plt.figure(figsize=(11, 4))\n",
    "ax2  = fig2.add_subplot(111)\n",
    "#plt.plot(time,ratio_covid)\n",
    "plt.fill_between(deaths_dates.tolist(),ratio_covid_2020.tolist(),0)\n",
    "plt.fill_between(deaths_dates.tolist(),ratio_covid_2020.tolist(),1)\n",
    "plt.grid()"
   ]
  }
 ],
 "metadata": {
  "kernelspec": {
   "display_name": "Python 3",
   "language": "python",
   "name": "python3"
  },
  "language_info": {
   "codemirror_mode": {
    "name": "ipython",
    "version": 3
   },
   "file_extension": ".py",
   "mimetype": "text/x-python",
   "name": "python",
   "nbconvert_exporter": "python",
   "pygments_lexer": "ipython3",
   "version": "3.6.5"
  }
 },
 "nbformat": 4,
 "nbformat_minor": 2
}
